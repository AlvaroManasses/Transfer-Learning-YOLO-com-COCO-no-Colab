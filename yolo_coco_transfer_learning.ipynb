# %% [markdown]
# # Transfer Learning com YOLO usando COCO Dataset
# 
# Configuração do ambiente no Google Colab

# %%
# Instalação do Darknet/YOLO
!git clone https://github.com/AlexeyAB/darknet
%cd darknet
!sed -i 's/OPENCV=0/OPENCV=1/' Makefile
!sed -i 's/GPU=0/GPU=1/' Makefile
!sed -i 's/CUDNN=0/CUDNN=1/' Makefile
!make

# %%
# Download do dataset COCO
!wget http://images.cocodataset.org/zips/train2017.zip
!unzip train2017.zip
!wget http://images.cocodataset.org/annotations/annotations_trainval2017.zip
!unzip annotations_trainval2017.zip

# %%
# Pré-processamento dos dados
# Conversão das anotações COCO para formato YOLO
!pip install pycocotools
import os
from pycocotools.coco import COCO

def convert_coco_to_yolo(coco, image_dir, output_dir):
    catIds = coco.getCatIds()
    cats = coco.loadCats(catIds)
    
    for img_id in coco.imgs:
        img_info = coco.loadImgs(img_id)[0]
        ann_ids = coco.getAnnIds(imgIds=img_info['id'])
        anns = coco.loadAnns(ann_ids)
        
        txt_file = os.path.join(output_dir, img_info['file_name'].replace('.jpg', '.txt'))
        
        with open(txt_file, 'w') as f:
            for ann in anns:
                x, y, w, h = ann['bbox']
                image_width = img_info['width']
                image_height = img_info['height']
                
                # Conversão para YOLO format
                x_center = (x + w/2) / image_width
                y_center = (y + h/2) / image_height
                width = w / image_width
                height = h / image_height
                
                cat_id = ann['category_id']
                f.write(f"{cat_id} {x_center} {y_center} {width} {height}\n")

# Configurar paths
coco = COCO('annotations/instances_train2017.json')
convert_coco_to_yolo(coco, 'train2017', 'train2017_labels')

# %%
# Configuração do YOLO
!wget https://pjreddie.com/media/files/yolov3-tiny.weights
!cp cfg/yolov3-tiny.cfg cfg/yolov3-tiny-custom.cfg

# Modificar o arquivo de configuração
!sed -i 's/batch=1/batch=64/' cfg/yolov3-tiny-custom.cfg
!sed -i 's/subdivisions=1/subdivisions=16/' cfg/yolov3-tiny-custom.cfg
!sed -i 's/classes=80/classes=80/' cfg/yolov3-tiny-custom.cfg  # COCO tem 80 classes

# %%
# Criar arquivos de configuração de dados
with open('coco.data', 'w') as f:
    f.write('''classes = 80
train = train2017.txt
valid = train2017.txt
names = data/coco.names
backup = backup/''')

# Criar lista de treino
!find train2017 -name '*.jpg' > train2017.txt

# %%
# Treinamento com Transfer Learning
!./darknet detector train coco.data cfg/yolov3-tiny-custom.cfg yolov3-tiny.weights -dont_show

# %%
# Validação do modelo
!./darknet detector map coco.data cfg/yolov3-tiny-custom.cfg backup/yolov3-tiny-custom_final.weights

# %%
# Exemplo de inferência
!./darknet detector test coco.data cfg/yolov3-tiny-custom.cfg backup/yolov3-tiny-custom_final.weights -ext_output dog.jpg
